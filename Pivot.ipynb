{
 "cells": [
  {
   "cell_type": "code",
   "execution_count": 75,
   "metadata": {},
   "outputs": [],
   "source": [
    "import pandas as pd\n",
    "import numpy as np\n",
    "\n",
    "filename = \"./data/Exported/DifferencePichertsStatsTeam22.csv\"\n",
    "df = pd.read_csv(filename)\n",
    "\n",
    "def pivot_var(df, category1, category2, value):\n",
    "    df_last = df.groupby(category1)[category2].last().reset_index()\n",
    "    df_first = df.groupby(category1)[category2].first().reset_index()\n",
    "\n",
    "    df_previous = df.merge(df_first, how='left', on=[category1, category2])\n",
    "    df_new = df.merge(df_last, how='right', on=[category1, category2])\n",
    "    df_new[category2] = 'Actual' + value\n",
    "\n",
    "    frames = [df, df_last]\n",
    "    df_prev = pd.concat(frames)\n",
    "    df_prev.drop_duplicates(subset=[category1, category2], keep=False, inplace=True)\n",
    "    df_prev[category2] = 'Previous' + value\n",
    "\n",
    "    frames = [df_prev, df_new]\n",
    "    df_fixed = pd.concat(frames)\n",
    "    df_fixed.sort_values(by=[category1], inplace=True)\n",
    "    piv_table = pd.pivot_table(df_fixed, values=value, index=[category1],\n",
    "                        columns=[category2], aggfunc=np.mean)\n",
    "    piv_table = piv_table.reset_index()\n",
    "    return piv_table\n",
    "\n",
    "piv_table = pivot_var(df, 'Name', 'Team', 'CSW%')\n",
    "piv_table.to_csv(\"./data/Exported/PowerBICSW%.csv\", index=False)"
   ]
  }
 ],
 "metadata": {
  "kernelspec": {
   "display_name": "Python 3.9.12 ('base')",
   "language": "python",
   "name": "python3"
  },
  "language_info": {
   "codemirror_mode": {
    "name": "ipython",
    "version": 3
   },
   "file_extension": ".py",
   "mimetype": "text/x-python",
   "name": "python",
   "nbconvert_exporter": "python",
   "pygments_lexer": "ipython3",
   "version": "3.9.12"
  },
  "orig_nbformat": 4,
  "vscode": {
   "interpreter": {
    "hash": "c4f92193806e2908606a5f23edd55a5282f2f433b73b1c504507f9256ed9f0b4"
   }
  }
 },
 "nbformat": 4,
 "nbformat_minor": 2
}
