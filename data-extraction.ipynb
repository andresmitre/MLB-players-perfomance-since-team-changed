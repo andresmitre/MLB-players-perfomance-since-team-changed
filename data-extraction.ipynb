{
 "cells": [
  {
   "cell_type": "code",
   "execution_count": 2,
   "metadata": {},
   "outputs": [],
   "source": [
    "import requests\n",
    "from bs4 import BeautifulSoup\n",
    "import pandas as pd"
   ]
  },
  {
   "cell_type": "code",
   "execution_count": 31,
   "metadata": {},
   "outputs": [],
   "source": [
    "table_dictionary = pd.read_csv(\"tab_dictionary.csv\")\n",
    "month_dictionary = pd.read_csv(\"tab_month.csv\")\n",
    "\n",
    "dict = pd.Series(table_dictionary.table_name.values,\n",
    "                 index=table_dictionary.index).to_dict()\n",
    "\n",
    "dict_month = pd.Series(month_dictionary.month.values,\n",
    "                 index=month_dictionary.index).to_dict()\n",
    "\n",
    "str_tab = 0\n",
    "url = 'https://www.fangraphs.com/leaders.aspx?pos=all&stats=pit&lg=all&qual=y&type={0}&season=2022&month=0&season1=2022&ind=0'.format(str_tab)\n",
    "page = requests.get(url)\n",
    "soup = BeautifulSoup(page.text, 'lxml')\n",
    "\n",
    "for tab in range (0,25):\n",
    "    str_tab = str(tab)\n",
    "    table1 = soup.find('table', id='LeaderBoard1_dg1_ctl00')\n",
    "    headers = []\n",
    "    for i in table1.find_all('th'):\n",
    "        title = i.text\n",
    "        headers.append(title)        \n",
    "    df = pd.DataFrame(columns = headers)\n",
    "    \n",
    "    for month in range(1,7):\n",
    "        month_number_page = month+3\n",
    "        minIP = 0\n",
    "        url = 'https://www.fangraphs.com/leaders.aspx?pos=all&stats=pit&lg=all&qual={0}&type={1}&season=2022&month={2}&season1=2022&ind=0'.format(minIP, str_tab, month_number_page)\n",
    "        page = requests.get(url)\n",
    "        soup = BeautifulSoup(page.text, 'lxml')\n",
    "        div_pages = soup.find(\"div\", {\"class\": \"rgWrap rgInfoPart\"})\n",
    "        texts = [r.text.strip() for r in div_pages]\n",
    "        pages = int(texts[3])\n",
    "           \n",
    "        table1 = soup.find('table', id='LeaderBoard1_dg1_ctl00')\n",
    "        headers = []\n",
    "        for i in table1.find_all('th'):\n",
    "            title = i.text\n",
    "            headers.append(title)  \n",
    "        mydataComplete = pd.DataFrame(columns = headers)\n",
    "    \n",
    "        for page_number in range(0, pages):\n",
    "            page_number_page = page_number+1\n",
    "            url = 'https://www.fangraphs.com/leaders.aspx?pos=all&stats=pit&lg=all&qual={0}&type={1}&season=2022&month={2}&season1=2022&ind=0&page={3}_30'.format(minIP, str_tab, month_number_page, page_number_page)\n",
    "            \n",
    "            # Create object page\n",
    "            page = requests.get(url)\n",
    "            soup = BeautifulSoup(page.text, 'lxml')\n",
    "            table1 = soup.find('table', id='LeaderBoard1_dg1_ctl00')\n",
    "            headers = []\n",
    "            for i in table1.find_all('th'):\n",
    "                title = i.text\n",
    "                headers.append(title)            \n",
    "            mydata = pd.DataFrame(columns = headers)\n",
    "            \n",
    "            idx = 0\n",
    "            for j in table1.find_all('tr')[1:]:\n",
    "                row_data = j.find_all('td')\n",
    "                row = [i.text for i in row_data]\n",
    "                length = len(mydata)\n",
    "                if idx<=1:\n",
    "                    idx=idx+1\n",
    "                    continue\n",
    "                mydata.loc[length] = row\n",
    "            mydata['MonthSeason'] = month+1\n",
    "            mydata['MonthYear'] = ('2022-{0}-01').format(str(month_number_page))\n",
    "            mydata['MonthYear']= pd.to_datetime(mydata['MonthYear'])\n",
    "            frames = [mydataComplete, mydata]\n",
    "            df_pages = pd.concat(frames)\n",
    "            mydataComplete = df_pages           \n",
    "        frames = [df, df_pages]\n",
    "        df_months = pd.concat(frames)\n",
    "        df = df_months     \n",
    "    df_months=df_months.dropna(axis=1,how='all')\n",
    "    df_months.to_csv('data/{0}/{0}_2022.csv'.format(dict.get(tab)), index=False)\n",
    "    del df\n",
    "    del df_months             "
   ]
  }
 ],
 "metadata": {
  "kernelspec": {
   "display_name": "Python 3.9.12 ('base')",
   "language": "python",
   "name": "python3"
  },
  "language_info": {
   "codemirror_mode": {
    "name": "ipython",
    "version": 3
   },
   "file_extension": ".py",
   "mimetype": "text/x-python",
   "name": "python",
   "nbconvert_exporter": "python",
   "pygments_lexer": "ipython3",
   "version": "3.9.12"
  },
  "orig_nbformat": 4,
  "vscode": {
   "interpreter": {
    "hash": "c4f92193806e2908606a5f23edd55a5282f2f433b73b1c504507f9256ed9f0b4"
   }
  }
 },
 "nbformat": 4,
 "nbformat_minor": 2
}
