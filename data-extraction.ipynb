{
 "cells": [
  {
   "cell_type": "code",
   "execution_count": null,
   "metadata": {},
   "outputs": [],
   "source": [
    "import requests\n",
    "from bs4 import BeautifulSoup\n",
    "import pandas as pd"
   ]
  },
  {
   "cell_type": "code",
   "execution_count": 36,
   "metadata": {},
   "outputs": [
    {
     "ename": "ValueError",
     "evalue": "could not convert string to Timestamp",
     "output_type": "error",
     "traceback": [
      "\u001b[1;31m---------------------------------------------------------------------------\u001b[0m",
      "\u001b[1;31mParserError\u001b[0m                               Traceback (most recent call last)",
      "File \u001b[1;32mc:\\Users\\andre\\anaconda3\\lib\\site-packages\\pandas\\_libs\\tslibs\\conversion.pyx:649\u001b[0m, in \u001b[0;36mpandas._libs.tslibs.conversion._convert_str_to_tsobject\u001b[1;34m()\u001b[0m\n",
      "File \u001b[1;32mc:\\Users\\andre\\anaconda3\\lib\\site-packages\\pandas\\_libs\\tslibs\\parsing.pyx:281\u001b[0m, in \u001b[0;36mpandas._libs.tslibs.parsing.parse_datetime_string\u001b[1;34m()\u001b[0m\n",
      "File \u001b[1;32mc:\\Users\\andre\\anaconda3\\lib\\site-packages\\dateutil\\parser\\_parser.py:1368\u001b[0m, in \u001b[0;36mparse\u001b[1;34m(timestr, parserinfo, **kwargs)\u001b[0m\n\u001b[0;32m   1367\u001b[0m \u001b[39melse\u001b[39;00m:\n\u001b[1;32m-> 1368\u001b[0m     \u001b[39mreturn\u001b[39;00m DEFAULTPARSER\u001b[39m.\u001b[39mparse(timestr, \u001b[39m*\u001b[39m\u001b[39m*\u001b[39mkwargs)\n",
      "File \u001b[1;32mc:\\Users\\andre\\anaconda3\\lib\\site-packages\\dateutil\\parser\\_parser.py:643\u001b[0m, in \u001b[0;36mparser.parse\u001b[1;34m(self, timestr, default, ignoretz, tzinfos, **kwargs)\u001b[0m\n\u001b[0;32m    642\u001b[0m \u001b[39mif\u001b[39;00m res \u001b[39mis\u001b[39;00m \u001b[39mNone\u001b[39;00m:\n\u001b[1;32m--> 643\u001b[0m     \u001b[39mraise\u001b[39;00m ParserError(\u001b[39m\"\u001b[39m\u001b[39mUnknown string format: \u001b[39m\u001b[39m%s\u001b[39;00m\u001b[39m\"\u001b[39m, timestr)\n\u001b[0;32m    645\u001b[0m \u001b[39mif\u001b[39;00m \u001b[39mlen\u001b[39m(res) \u001b[39m==\u001b[39m \u001b[39m0\u001b[39m:\n",
      "\u001b[1;31mParserError\u001b[0m: Unknown string format: 2016-{0}-06",
      "\nDuring handling of the above exception, another exception occurred:\n",
      "\u001b[1;31mValueError\u001b[0m                                Traceback (most recent call last)",
      "\u001b[1;32mc:\\Users\\andre\\OneDrive\\Documentos (personal)\\Personal\\MLB-players-perfomance-since-team-changed\\data-extraction.ipynb Cell 2\u001b[0m in \u001b[0;36m<cell line: 14>\u001b[1;34m()\u001b[0m\n\u001b[0;32m     <a href='vscode-notebook-cell:/c%3A/Users/andre/OneDrive/Documentos%20%28personal%29/Personal/MLB-players-perfomance-since-team-changed/data-extraction.ipynb#X10sZmlsZQ%3D%3D?line=47'>48</a>\u001b[0m     mydata\u001b[39m.\u001b[39mloc[length] \u001b[39m=\u001b[39m row\n\u001b[0;32m     <a href='vscode-notebook-cell:/c%3A/Users/andre/OneDrive/Documentos%20%28personal%29/Personal/MLB-players-perfomance-since-team-changed/data-extraction.ipynb#X10sZmlsZQ%3D%3D?line=48'>49</a>\u001b[0m mydata[\u001b[39m'\u001b[39m\u001b[39mMonthSeason\u001b[39m\u001b[39m'\u001b[39m] \u001b[39m=\u001b[39m month\u001b[39m+\u001b[39m\u001b[39m1\u001b[39m\n\u001b[1;32m---> <a href='vscode-notebook-cell:/c%3A/Users/andre/OneDrive/Documentos%20%28personal%29/Personal/MLB-players-perfomance-since-team-changed/data-extraction.ipynb#X10sZmlsZQ%3D%3D?line=49'>50</a>\u001b[0m mydata[\u001b[39m'\u001b[39m\u001b[39mMonthYear\u001b[39m\u001b[39m'\u001b[39m] \u001b[39m=\u001b[39m pd\u001b[39m.\u001b[39;49mTimestamp(\u001b[39m'\u001b[39;49m\u001b[39m2016-\u001b[39;49m\u001b[39m{0}\u001b[39;49;00m\u001b[39m-06\u001b[39;49m\u001b[39m'\u001b[39;49m)\u001b[39m.\u001b[39mformat(\u001b[39mstr\u001b[39m(month_number_page))\n\u001b[0;32m     <a href='vscode-notebook-cell:/c%3A/Users/andre/OneDrive/Documentos%20%28personal%29/Personal/MLB-players-perfomance-since-team-changed/data-extraction.ipynb#X10sZmlsZQ%3D%3D?line=50'>51</a>\u001b[0m mydata\u001b[39m.\u001b[39mto_csv(\u001b[39m'\u001b[39m\u001b[39mdata/\u001b[39m\u001b[39m{0}\u001b[39;00m\u001b[39m/\u001b[39m\u001b[39m{1}\u001b[39;00m\u001b[39m_Page_\u001b[39m\u001b[39m{2}\u001b[39;00m\u001b[39m.csv\u001b[39m\u001b[39m'\u001b[39m\u001b[39m.\u001b[39mformat(\u001b[39mdict\u001b[39m\u001b[39m.\u001b[39mget(tab), dict_month\u001b[39m.\u001b[39mget(month), page_number), index\u001b[39m=\u001b[39m\u001b[39mFalse\u001b[39;00m)\n",
      "File \u001b[1;32mc:\\Users\\andre\\anaconda3\\lib\\site-packages\\pandas\\_libs\\tslibs\\timestamps.pyx:1399\u001b[0m, in \u001b[0;36mpandas._libs.tslibs.timestamps.Timestamp.__new__\u001b[1;34m()\u001b[0m\n",
      "File \u001b[1;32mc:\\Users\\andre\\anaconda3\\lib\\site-packages\\pandas\\_libs\\tslibs\\conversion.pyx:408\u001b[0m, in \u001b[0;36mpandas._libs.tslibs.conversion.convert_to_tsobject\u001b[1;34m()\u001b[0m\n",
      "File \u001b[1;32mc:\\Users\\andre\\anaconda3\\lib\\site-packages\\pandas\\_libs\\tslibs\\conversion.pyx:652\u001b[0m, in \u001b[0;36mpandas._libs.tslibs.conversion._convert_str_to_tsobject\u001b[1;34m()\u001b[0m\n",
      "\u001b[1;31mValueError\u001b[0m: could not convert string to Timestamp"
     ]
    }
   ],
   "source": [
    "table_dictionary = pd.read_csv(\"tab_dictionary.csv\")\n",
    "month_dictionary = pd.read_csv(\"tab_month.csv\")\n",
    "\n",
    "dict = pd.Series(table_dictionary.table_name.values,\n",
    "                 index=table_dictionary.index).to_dict()\n",
    "\n",
    "dict_month = pd.Series(month_dictionary.month.values,\n",
    "                 index=month_dictionary.index).to_dict()\n",
    "\n",
    "generic_url = 'https://www.fangraphs.com/leaders.aspx?pos=all&stats=pit&lg=all&qual=y&type=8&season=2022&month=0&season1=2022&ind=0'\n",
    "page = requests.get(generic_url)\n",
    "soup = BeautifulSoup(page.text, 'lxml')\n",
    "\n",
    "for tab in range (1,24):\n",
    "    str_tab = str(tab)\n",
    "    div_pages = soup.find(\"div\", {\"class\": \"rgWrap rgInfoPart\"})\n",
    "    texts = [r.text.strip() for r in div_pages]\n",
    "    pages = int(texts[3])\n",
    "    # dictionary from 0-5\n",
    "    for month in range(0,6):\n",
    "        month_number_page = month+4\n",
    "        for page_number in range(0, pages):\n",
    "            page_number_page = page_number+1\n",
    "            url = 'https://www.fangraphs.com/leaders.aspx?pos=all&stats=pit&lg=all&qual=y&type={0}&season=2022&month={1}&season1=2022&ind=0&page={2}_30'.format(str_tab, month_number_page, page_number_page)\n",
    "            \n",
    "            # Create object page\n",
    "            page = requests.get(url)\n",
    "\n",
    "            # parser-lxml = Change html to Python friendly format\n",
    "            # Obtain page's information\n",
    "            soup = BeautifulSoup(page.text, 'lxml')\n",
    "\n",
    "            table1 = soup.find('table', id='LeaderBoard1_dg1_ctl00')\n",
    "            headers = []\n",
    "            for i in table1.find_all('th'):\n",
    "                title = i.text\n",
    "                headers.append(title)\n",
    "                \n",
    "            mydata = pd.DataFrame(columns = headers)\n",
    "            idx = 0\n",
    "            for j in table1.find_all('tr')[1:]:\n",
    "                row_data = j.find_all('td')\n",
    "                row = [i.text for i in row_data]\n",
    "                length = len(mydata)\n",
    "                if idx<=1:\n",
    "                    idx=idx+1\n",
    "                    continue\n",
    "                mydata.loc[length] = row\n",
    "            mydata['MonthSeason'] = month+1\n",
    "            mydata['MonthYear'] = ('2022-{0}-01').format(str(month_number_page))\n",
    "            mydata['MonthYear']= pd.to_datetime(mydata['MonthYear'])\n",
    "            mydata.to_csv('data/{0}/{1}_Page_{2}.csv'.format(dict.get(tab), dict_month.get(month), page_number), index=False)"
   ]
  },
  {
   "cell_type": "code",
   "execution_count": 35,
   "metadata": {},
   "outputs": [
    {
     "data": {
      "text/plain": [
       "Timestamp('2022-10-08 21:30:46.222246')"
      ]
     },
     "execution_count": 35,
     "metadata": {},
     "output_type": "execute_result"
    }
   ],
   "source": []
  }
 ],
 "metadata": {
  "kernelspec": {
   "display_name": "Python 3.9.12 ('base')",
   "language": "python",
   "name": "python3"
  },
  "language_info": {
   "codemirror_mode": {
    "name": "ipython",
    "version": 3
   },
   "file_extension": ".py",
   "mimetype": "text/x-python",
   "name": "python",
   "nbconvert_exporter": "python",
   "pygments_lexer": "ipython3",
   "version": "3.9.12"
  },
  "orig_nbformat": 4,
  "vscode": {
   "interpreter": {
    "hash": "c4f92193806e2908606a5f23edd55a5282f2f433b73b1c504507f9256ed9f0b4"
   }
  }
 },
 "nbformat": 4,
 "nbformat_minor": 2
}
