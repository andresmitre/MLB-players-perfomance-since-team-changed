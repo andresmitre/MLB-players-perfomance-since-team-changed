{
 "cells": [
  {
   "cell_type": "code",
   "execution_count": 8,
   "metadata": {},
   "outputs": [
    {
     "data": {
      "text/html": [
       "<div>\n",
       "<style scoped>\n",
       "    .dataframe tbody tr th:only-of-type {\n",
       "        vertical-align: middle;\n",
       "    }\n",
       "\n",
       "    .dataframe tbody tr th {\n",
       "        vertical-align: top;\n",
       "    }\n",
       "\n",
       "    .dataframe thead th {\n",
       "        text-align: right;\n",
       "    }\n",
       "</style>\n",
       "<table border=\"1\" class=\"dataframe\">\n",
       "  <thead>\n",
       "    <tr style=\"text-align: right;\">\n",
       "      <th></th>\n",
       "      <th>Team</th>\n",
       "      <th>AnalyticalSize</th>\n",
       "      <th>Percentage of CSW%</th>\n",
       "      <th>Percentage of F-Strike%</th>\n",
       "      <th>Percentage of K-BB%</th>\n",
       "      <th>Percentage of RE24</th>\n",
       "      <th>Percentage of WAR</th>\n",
       "      <th>AllStarterStats</th>\n",
       "      <th>AllRelieverStats</th>\n",
       "      <th>AllPitchersStats</th>\n",
       "    </tr>\n",
       "  </thead>\n",
       "  <tbody>\n",
       "    <tr>\n",
       "      <th>0</th>\n",
       "      <td>ARI</td>\n",
       "      <td>23</td>\n",
       "      <td>-0.0376</td>\n",
       "      <td>-0.6163</td>\n",
       "      <td>-0.2908</td>\n",
       "      <td>-6.0074</td>\n",
       "      <td>3.5000</td>\n",
       "      <td>1.057200</td>\n",
       "      <td>-2.220433</td>\n",
       "      <td>-0.69042</td>\n",
       "    </tr>\n",
       "    <tr>\n",
       "      <th>1</th>\n",
       "      <td>ATL</td>\n",
       "      <td>13</td>\n",
       "      <td>-0.2446</td>\n",
       "      <td>-0.4545</td>\n",
       "      <td>-0.6365</td>\n",
       "      <td>2.1168</td>\n",
       "      <td>-6.3333</td>\n",
       "      <td>-2.404800</td>\n",
       "      <td>0.472567</td>\n",
       "      <td>-1.11042</td>\n",
       "    </tr>\n",
       "    <tr>\n",
       "      <th>2</th>\n",
       "      <td>BAL</td>\n",
       "      <td>12</td>\n",
       "      <td>-0.8613</td>\n",
       "      <td>-0.5002</td>\n",
       "      <td>-5.7055</td>\n",
       "      <td>-2.6400</td>\n",
       "      <td>-9.7500</td>\n",
       "      <td>-5.438933</td>\n",
       "      <td>-1.333833</td>\n",
       "      <td>-3.89140</td>\n",
       "    </tr>\n",
       "    <tr>\n",
       "      <th>3</th>\n",
       "      <td>BOS</td>\n",
       "      <td>26</td>\n",
       "      <td>-0.2868</td>\n",
       "      <td>0.0532</td>\n",
       "      <td>-10.1800</td>\n",
       "      <td>1.9902</td>\n",
       "      <td>0.0000</td>\n",
       "      <td>-3.488933</td>\n",
       "      <td>0.585533</td>\n",
       "      <td>-1.68468</td>\n",
       "    </tr>\n",
       "    <tr>\n",
       "      <th>4</th>\n",
       "      <td>CHC</td>\n",
       "      <td>16</td>\n",
       "      <td>0.2718</td>\n",
       "      <td>0.1441</td>\n",
       "      <td>-0.1843</td>\n",
       "      <td>-0.9039</td>\n",
       "      <td>-0.2500</td>\n",
       "      <td>-0.054167</td>\n",
       "      <td>-0.162667</td>\n",
       "      <td>-0.18446</td>\n",
       "    </tr>\n",
       "  </tbody>\n",
       "</table>\n",
       "</div>"
      ],
      "text/plain": [
       "  Team  AnalyticalSize  Percentage of CSW%  Percentage of F-Strike%  \\\n",
       "0  ARI              23             -0.0376                  -0.6163   \n",
       "1  ATL              13             -0.2446                  -0.4545   \n",
       "2  BAL              12             -0.8613                  -0.5002   \n",
       "3  BOS              26             -0.2868                   0.0532   \n",
       "4  CHC              16              0.2718                   0.1441   \n",
       "\n",
       "   Percentage of K-BB%  Percentage of RE24  Percentage of WAR  \\\n",
       "0              -0.2908             -6.0074             3.5000   \n",
       "1              -0.6365              2.1168            -6.3333   \n",
       "2              -5.7055             -2.6400            -9.7500   \n",
       "3             -10.1800              1.9902             0.0000   \n",
       "4              -0.1843             -0.9039            -0.2500   \n",
       "\n",
       "   AllStarterStats  AllRelieverStats  AllPitchersStats  \n",
       "0         1.057200         -2.220433          -0.69042  \n",
       "1        -2.404800          0.472567          -1.11042  \n",
       "2        -5.438933         -1.333833          -3.89140  \n",
       "3        -3.488933          0.585533          -1.68468  \n",
       "4        -0.054167         -0.162667          -0.18446  "
      ]
     },
     "execution_count": 8,
     "metadata": {},
     "output_type": "execute_result"
    }
   ],
   "source": [
    "import pandas as pd\n",
    "from scipy.stats import pearsonr\n",
    " \n",
    "# Import your data into Python\n",
    "#df = pd.read_excel(\"data/Staff per team.xlsx\",sheet_name='Total size considered per team')\n",
    "df = pd.read_csv(\"data/AnalytcalStaffvsAllPitchersSwitchedTeamsDuring2022.csv\")\n",
    "df.head()\n"
   ]
  },
  {
   "cell_type": "code",
   "execution_count": 12,
   "metadata": {},
   "outputs": [
    {
     "name": "stdout",
     "output_type": "stream",
     "text": [
      "Pearsons correlation: -0.045\n"
     ]
    },
    {
     "data": {
      "text/plain": [
       "(-0.045303621782110094, 0.8121011934602267)"
      ]
     },
     "execution_count": 12,
     "metadata": {},
     "output_type": "execute_result"
    }
   ],
   "source": [
    " # Convert dataframe into series\n",
    "list1 = df['AnalyticalSize']\n",
    "list2 = df['AllPitchersStats']\n",
    " \n",
    "# Apply the pearsonr()\n",
    "corr, _ = pearsonr(list1, list2)\n",
    "print('Pearsons correlation: %.3f' % corr)\n",
    "pearsonr(list1, list2) "
   ]
  },
  {
   "cell_type": "code",
   "execution_count": 3,
   "metadata": {},
   "outputs": [
    {
     "data": {
      "text/html": [
       "<div>\n",
       "<style scoped>\n",
       "    .dataframe tbody tr th:only-of-type {\n",
       "        vertical-align: middle;\n",
       "    }\n",
       "\n",
       "    .dataframe tbody tr th {\n",
       "        vertical-align: top;\n",
       "    }\n",
       "\n",
       "    .dataframe thead th {\n",
       "        text-align: right;\n",
       "    }\n",
       "</style>\n",
       "<table border=\"1\" class=\"dataframe\">\n",
       "  <thead>\n",
       "    <tr style=\"text-align: right;\">\n",
       "      <th></th>\n",
       "      <th>AnalyticalSize</th>\n",
       "      <th>Percentage of CSW%</th>\n",
       "      <th>Percentage of F-Strike%</th>\n",
       "      <th>Percentage of K-BB%</th>\n",
       "      <th>Percentage of RE24</th>\n",
       "      <th>Percentage of WAR</th>\n",
       "    </tr>\n",
       "  </thead>\n",
       "  <tbody>\n",
       "    <tr>\n",
       "      <th>AnalyticalSize</th>\n",
       "      <td>1.000000</td>\n",
       "      <td>0.442075</td>\n",
       "      <td>0.306264</td>\n",
       "      <td>-0.301838</td>\n",
       "      <td>0.096816</td>\n",
       "      <td>0.017564</td>\n",
       "    </tr>\n",
       "    <tr>\n",
       "      <th>Percentage of CSW%</th>\n",
       "      <td>0.442075</td>\n",
       "      <td>1.000000</td>\n",
       "      <td>0.401157</td>\n",
       "      <td>0.211956</td>\n",
       "      <td>0.117523</td>\n",
       "      <td>0.140235</td>\n",
       "    </tr>\n",
       "    <tr>\n",
       "      <th>Percentage of F-Strike%</th>\n",
       "      <td>0.306264</td>\n",
       "      <td>0.401157</td>\n",
       "      <td>1.000000</td>\n",
       "      <td>-0.152041</td>\n",
       "      <td>-0.036528</td>\n",
       "      <td>0.114329</td>\n",
       "    </tr>\n",
       "    <tr>\n",
       "      <th>Percentage of K-BB%</th>\n",
       "      <td>-0.301838</td>\n",
       "      <td>0.211956</td>\n",
       "      <td>-0.152041</td>\n",
       "      <td>1.000000</td>\n",
       "      <td>-0.040832</td>\n",
       "      <td>0.210386</td>\n",
       "    </tr>\n",
       "    <tr>\n",
       "      <th>Percentage of RE24</th>\n",
       "      <td>0.096816</td>\n",
       "      <td>0.117523</td>\n",
       "      <td>-0.036528</td>\n",
       "      <td>-0.040832</td>\n",
       "      <td>1.000000</td>\n",
       "      <td>0.249892</td>\n",
       "    </tr>\n",
       "    <tr>\n",
       "      <th>Percentage of WAR</th>\n",
       "      <td>0.017564</td>\n",
       "      <td>0.140235</td>\n",
       "      <td>0.114329</td>\n",
       "      <td>0.210386</td>\n",
       "      <td>0.249892</td>\n",
       "      <td>1.000000</td>\n",
       "    </tr>\n",
       "  </tbody>\n",
       "</table>\n",
       "</div>"
      ],
      "text/plain": [
       "                         AnalyticalSize  Percentage of CSW%  \\\n",
       "AnalyticalSize                 1.000000            0.442075   \n",
       "Percentage of CSW%             0.442075            1.000000   \n",
       "Percentage of F-Strike%        0.306264            0.401157   \n",
       "Percentage of K-BB%           -0.301838            0.211956   \n",
       "Percentage of RE24             0.096816            0.117523   \n",
       "Percentage of WAR              0.017564            0.140235   \n",
       "\n",
       "                         Percentage of F-Strike%  Percentage of K-BB%  \\\n",
       "AnalyticalSize                          0.306264            -0.301838   \n",
       "Percentage of CSW%                      0.401157             0.211956   \n",
       "Percentage of F-Strike%                 1.000000            -0.152041   \n",
       "Percentage of K-BB%                    -0.152041             1.000000   \n",
       "Percentage of RE24                     -0.036528            -0.040832   \n",
       "Percentage of WAR                       0.114329             0.210386   \n",
       "\n",
       "                         Percentage of RE24  Percentage of WAR  \n",
       "AnalyticalSize                     0.096816           0.017564  \n",
       "Percentage of CSW%                 0.117523           0.140235  \n",
       "Percentage of F-Strike%           -0.036528           0.114329  \n",
       "Percentage of K-BB%               -0.040832           0.210386  \n",
       "Percentage of RE24                 1.000000           0.249892  \n",
       "Percentage of WAR                  0.249892           1.000000  "
      ]
     },
     "execution_count": 3,
     "metadata": {},
     "output_type": "execute_result"
    }
   ],
   "source": [
    "df.corr()"
   ]
  },
  {
   "cell_type": "code",
   "execution_count": 6,
   "metadata": {},
   "outputs": [
    {
     "name": "stdout",
     "output_type": "stream",
     "text": [
      "Pearsons correlation: 0.201\n"
     ]
    },
    {
     "data": {
      "text/plain": [
       "(0.201041216143107, 0.28674798817984565)"
      ]
     },
     "execution_count": 6,
     "metadata": {},
     "output_type": "execute_result"
    }
   ],
   "source": [
    " # Convert dataframe into series\n",
    "list1 = df['AnalyticalSize']\n",
    "list2 = df['Percentage of WAR']\n",
    " \n",
    "# Apply the pearsonr()\n",
    "corr, _ = pearsonr(list1, list2)\n",
    "print('Pearsons correlation: %.3f' % corr)\n",
    "pearsonr(list1, list2) "
   ]
  }
 ],
 "metadata": {
  "kernelspec": {
   "display_name": "Python 3.9.12 ('base')",
   "language": "python",
   "name": "python3"
  },
  "language_info": {
   "codemirror_mode": {
    "name": "ipython",
    "version": 3
   },
   "file_extension": ".py",
   "mimetype": "text/x-python",
   "name": "python",
   "nbconvert_exporter": "python",
   "pygments_lexer": "ipython3",
   "version": "3.9.12"
  },
  "orig_nbformat": 4,
  "vscode": {
   "interpreter": {
    "hash": "c4f92193806e2908606a5f23edd55a5282f2f433b73b1c504507f9256ed9f0b4"
   }
  }
 },
 "nbformat": 4,
 "nbformat_minor": 2
}
